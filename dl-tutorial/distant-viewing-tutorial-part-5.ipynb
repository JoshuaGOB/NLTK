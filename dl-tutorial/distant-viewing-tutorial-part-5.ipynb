{
 "cells": [
  {
   "cell_type": "markdown",
   "metadata": {},
   "source": [
    "# Distant Viewing with Deep Learning: Part 5 (optional)\n",
    "\n",
    "This notebook is only needed if you want to process your own corpus of images. Here,\n",
    "you will need to install **keras** and **tensorflow** to run to the\n",
    "neural networks from scratch."
   ]
  },
  {
   "cell_type": "code",
   "execution_count": null,
   "metadata": {},
   "outputs": [],
   "source": [
    "import numpy as np\n",
    "import scipy as sp\n",
    "import pandas as pd\n",
    "\n",
    "import os\n",
    "from os.path import join\n",
    "\n",
    "from keras.applications.vgg19 import VGG19\n",
    "from keras.preprocessing import image\n",
    "from keras.applications.vgg19 import preprocess_input, decode_predictions\n",
    "from keras.models import Model"
   ]
  },
  {
   "cell_type": "markdown",
   "metadata": {},
   "source": [
    "Load the keras models. The first time you run this the models will be downloaded\n",
    "from the internet."
   ]
  },
  {
   "cell_type": "code",
   "execution_count": null,
   "metadata": {},
   "outputs": [],
   "source": [
    "base_model = VGG19(weights='imagenet')\n",
    "vgg_fc2 = Model(inputs=base_model.input,\n",
    "                outputs=base_model.get_layer('fc2').output)"
   ]
  },
  {
   "cell_type": "markdown",
   "metadata": {},
   "source": [
    "Here is the function to compute the embeddings from scratch."
   ]
  },
  {
   "cell_type": "code",
   "execution_count": null,
   "metadata": {},
   "outputs": [],
   "source": [
    "def compute_embedding(cn):\n",
    "    corpus = pd.read_csv(join(\"meta\", cn + \".csv\"))\n",
    "    corpus_img = np.zeros((corpus.shape[0], 224, 224, 3))\n",
    "    for index, row in corpus.iterrows():\n",
    "        img_path = join('images', cn, row['filename'])\n",
    "        img = image.load_img(img_path, target_size=(224, 224))\n",
    "        x = image.img_to_array(img)\n",
    "        corpus_img[index, :, :, :] = x\n",
    "        if (index % 50) == 0:\n",
    "            print(\"Done with {0:03d}\".format(index))\n",
    "\n",
    "    corpus_img = preprocess_input(corpus_img)\n",
    "    corpus_fc2 = vgg_fc2.predict(corpus_img, verbose=True)\n",
    "    corpus_base = base_model.predict(corpus_img, verbose=True)\n",
    "    cats = decode_predictions(corpus_base, top=20)\n",
    "    \n",
    "    return corpus_fc2, cats"
   ]
  },
  {
   "cell_type": "markdown",
   "metadata": {},
   "source": [
    "Now, you will need to create directory inside of the `images` directory \n",
    "with a name describing your corpus (no spaces please!). Next, we will\n",
    "create a CSV file to describe the corpus. The code below works on the\n",
    "corpus called \"test\"; to run on your data, change the first line to your\n",
    "dataset name"
   ]
  },
  {
   "cell_type": "code",
   "execution_count": null,
   "metadata": {},
   "outputs": [],
   "source": [
    "cn = \"test\"\n",
    "impaths = [os.path.join(dp, f) for dp, dn, fn in os.walk(join(\"images\", cn)) for f in fn]\n",
    "impaths = [x for x in impaths if os.path.splitext(x)[1] in ['.jpg', '.png', '.jpeg']]\n",
    "impaths = [x[12:] for x in impaths]\n",
    "im_meta = pd.DataFrame({'filename': impaths, 'title': impaths})\n",
    "im_meta.to_csv(join(\"meta\", cn + \".csv\"), index=False)    "
   ]
  },
  {
   "cell_type": "markdown",
   "metadata": {},
   "source": [
    "Then, you can run the `compute_embedding` function on the dataset and save the results."
   ]
  },
  {
   "cell_type": "code",
   "execution_count": null,
   "metadata": {},
   "outputs": [],
   "source": [
    "X, cats = compute_embedding(cn)\n",
    "np.save(join(\"data\", cn + \"_vgg19_fc2\"), X)\n",
    "np.save(join(\"data\", cn + \"_vgg19_categories\"), cats)"
   ]
  },
  {
   "cell_type": "markdown",
   "metadata": {},
   "source": [
    "You should be able to now run the Part-3 notebook on your own corpus. If you run into\n",
    "any difficulties, please let us know!"
   ]
  }
 ],
 "metadata": {
  "kernelspec": {
   "display_name": "Python 3",
   "language": "python",
   "name": "python3"
  },
  "language_info": {
   "codemirror_mode": {
    "name": "ipython",
    "version": 3
   },
   "file_extension": ".py",
   "mimetype": "text/x-python",
   "name": "python",
   "nbconvert_exporter": "python",
   "pygments_lexer": "ipython3",
   "version": "3.5.5"
  },
  "widgets": {
   "state": {},
   "version": "1.1.2"
  }
 },
 "nbformat": 4,
 "nbformat_minor": 2
}
